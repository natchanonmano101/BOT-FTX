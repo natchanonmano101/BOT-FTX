{
 "cells": [
  {
   "cell_type": "markdown",
   "id": "fleet-campaign",
   "metadata": {},
   "source": [
    "# Rebalance XRP Spot only\n",
    "    - xrp ซื้อขายได้ขั้นต่ำ 1 unit 2 3 ไม่มีทศนิยม "
   ]
  },
  {
   "cell_type": "code",
   "execution_count": 1,
   "id": "expressed-attachment",
   "metadata": {},
   "outputs": [],
   "source": [
    "import csv\n",
    "import ccxt\n",
    "import json\n",
    "import time\n",
    "import random\n",
    "import numpy as np\n",
    "import pandas as pd\n",
    "import seaborn as sns\n",
    "from matplotlib import dates\n",
    "from datetime import datetime\n",
    "import matplotlib.pyplot as plt\n",
    "%matplotlib inline"
   ]
  },
  {
   "cell_type": "code",
   "execution_count": 2,
   "id": "614570bc",
   "metadata": {},
   "outputs": [],
   "source": [
    "sns.set_style('whitegrid')"
   ]
  },
  {
   "cell_type": "code",
   "execution_count": 3,
   "id": "distinct-remains",
   "metadata": {},
   "outputs": [],
   "source": [
    "class RebalanceFTX():\n",
    "    \n",
    "    def __init__(self, api_key, api_secret, subaccount=None, symbol=None, post_only=False):\n",
    "        self.api_key = api_key\n",
    "        self.api_secret = api_secret\n",
    "        self.subaccount = subaccount\n",
    "        self.symbol = symbol\n",
    "        self.post_only = post_only\n",
    "        self.exchange = ccxt.ftx({\n",
    "            'apiKey' : api_key, \n",
    "            'secret' : api_secret,\n",
    "            'enableRateLimit' : True})\n",
    "        \n",
    "        if self.subaccount == None:\n",
    "            print('-' * 16)\n",
    "            print('FTX Main Account')\n",
    "            print('-' * 16)\n",
    "            \n",
    "        else:\n",
    "            self.exchange.headers = {\n",
    "                'FTX-SUBACCOUNT': self.subaccount,}\n",
    "            print('-' * 26)\n",
    "            print(f'FTX Sub Account : {self.subaccount}')\n",
    "            print('-' * 26)\n",
    "              \n",
    "    \n",
    "    def fetchPrice(self):\n",
    "        pair = self.symbol\n",
    "        try:\n",
    "            price = float(self.exchange.fetch_ticker(pair)['last'])\n",
    "        except ccxt.NetworkError as e:\n",
    "            price = float(self.exchange.fetch_ticker(pair)['last'])\n",
    "        except ccxt.ExchangeError as e:\n",
    "            price = float(self.exchange.fetch_ticker(pair)['last'])\n",
    "        except Exception as e:\n",
    "            price = float(self.exchange.fetch_ticker(pair)['last'])\n",
    "        return price\n",
    "    \n",
    "    def executeOrder(self, types, side, unit, price):\n",
    "        # (pair, \"limit\", \"buy\", 0.001, 51000)\n",
    "        pair = self.symbol\n",
    " \n",
    "        try:\n",
    "            order = self.exchange.create_order(pair, types, side, unit, price, params={'postOnly':self.post_only}) \n",
    "            print(f'{side} {types}: {pair} price: {price} unit: {unit}') \n",
    "        except:\n",
    "            print('Pending failed')\n",
    "            \n",
    " \n",
    "    def fetchPending(self):\n",
    "        pair = self.symbol\n",
    "        dfPending = pd.DataFrame(self.exchange.fetch_open_orders(pair, since=None, limit=1000, params={}), \n",
    "                     columns=['id', 'timestamp', 'datetime', 'symbol', 'side', 'price', 'amount', 'status', 'filled'])\n",
    "        return dfPending\n",
    "    \n",
    "    def fetchTradeHistory(self, since=None):\n",
    "        pair = self.symbol\n",
    "        dfHist = pd.DataFrame(self.exchange.fetch_my_trades(pair, since=since, limit=1000, params={}),\n",
    "                     columns=['id', 'timestamp', 'datetime', 'symbol', 'side', 'price', 'amount', 'cost', 'fee'])\n",
    "        \n",
    "        #ftx.fetchOrderHistory()['fee'].iloc[0]['cost'] \n",
    "        return dfHist\n",
    "        \n",
    "    def cancelAllOrder(self):\n",
    "        order_id = self.fetchPending()['id']\n",
    "        for i in order_id:\n",
    "            try:\n",
    "                self.exchange.cancel_order(i) \n",
    "                print(f'Order ID : {i} has been cancelled')\n",
    "            except:\n",
    "                print('Cancel failed')\n",
    "        \n",
    "    def fetchBalance(self):\n",
    "        return self.exchange.fetch_balance(params={})\n",
    "    \n",
    "    def fetchOrder(self, order_id):\n",
    "        # d = 'status' ,'filled' ,'price etc', 'side'.\n",
    "        return self.exchange.fetch_order(order_id)\n",
    "    \n",
    "    def OHLCV(self, tf, limit=None):\n",
    "        #tf = '15s', '1m', '5m', '15m', '1h', '4h', '1d'\n",
    "        pair = self.symbol\n",
    "        ohlcv = self.exchange.fetch_ohlcv(pair, timeframe=tf, limit=limit)\n",
    "        df = pd.DataFrame(ohlcv, columns=['datetime', 'open', 'high', 'low', 'close', 'volume'])\n",
    "        df['datetime'] = pd.to_datetime(df['datetime'], unit='ms')\n",
    "        return df\n",
    "    \n",
    "    def minimumSize(self):\n",
    "        pair = self.symbol\n",
    "        min_size = self.exchange.fetch_ticker(pair)['info']['minProvideSize']\n",
    "        return min_size\n",
    "    \n",
    "    def rebalance(self, min_diff, fixed, rp): \n",
    "        # rebalance every diff% value asset\n",
    "        # fixed=asset value fixed\n",
    "        # rp = risk parameter (first entry buy)\n",
    "        quote = self.symbol.split('/')[1]\n",
    "        based = self.symbol.split('/')[0]\n",
    "        \n",
    "        price = self.fetchPrice()\n",
    "        cash = self.fetchBalance()[quote]['total']\n",
    "        asset = self.fetchBalance()[based]['total']\n",
    " \n",
    "        asset_val = asset*price\n",
    "        diff = asset_val - fixed\n",
    "        print(f'Asset:{asset:.4f} x Price:{price:.5f} = Value:{asset_val:.4f} ==> Diff:{diff:.4f} {quote}, Size:{diff/price:.2f} {based}')\n",
    "        \n",
    "        mdf = min_diff*fixed \n",
    "        #rebalance every 2% of diff asset value\n",
    "        \n",
    "        #Sell\n",
    "        if diff>mdf: \n",
    "            if self.fetchPending().empty: \n",
    "                pass\n",
    "            else:\n",
    "                self.cancelAllOrder()\n",
    " \n",
    "            unit = int(diff/price)\n",
    "            #print(f'sell {unit} xrp @{round(price+price*0.001,6)}')\n",
    "            self.executeOrder('limit', 'sell', unit, round(price+price*0.0006,6))\n",
    " \n",
    "        #Buy\n",
    "        elif abs(diff)>mdf and price<=rp: \n",
    "            if self.fetchPending().empty:\n",
    "                pass\n",
    "            else:\n",
    "                self.cancelAllOrder()\n",
    " \n",
    "            unit = int(abs(diff)/price)\n",
    "            #print(f'buy {unit} xrp @{round(price-price*0.001,6)}')\n",
    "            self.executeOrder('limit', 'buy', unit, round(price-price*0.0006,6))\n",
    "        else:\n",
    "            print('Wait !!!')\n",
    "            "
   ]
  },
  {
   "cell_type": "code",
   "execution_count": 4,
   "id": "further-western",
   "metadata": {},
   "outputs": [
    {
     "name": "stdout",
     "output_type": "stream",
     "text": [
      "--------------------------\n",
      "FTX Sub Account : XRP001\n",
      "--------------------------\n"
     ]
    }
   ],
   "source": [
    "ftx = RebalanceFTX(api_key='_QEWMUNqNgtihs1B8_T_vAe776u6kdAu9Qt6MUuC',\n",
    "                   api_secret='aZgCW4MDIvIgai-lOpfuJJqi3rj01TTnkX7ZUJCi',\n",
    "                   subaccount='XRP001',\n",
    "                   symbol='XRP/USD',\n",
    "                   post_only=True)"
   ]
  },
  {
   "cell_type": "code",
   "execution_count": 5,
   "id": "ordered-uganda",
   "metadata": {
    "scrolled": true
   },
   "outputs": [
    {
     "data": {
      "text/plain": [
       "\"# Rebalance params\\ntb = 300 # Rebalance 1 hr = 3600 sec\\nmin_diff = 0.02 # 2% diff value asset\\nfixed = 100 # fixed asset value\\nrp = 0.8911 # Risk parameter\\n \\nwhile True:\\n        \\n    ftx.rebalance(min_diff, fixed, rp)\\n    print(f'Sleep {tb} sec.')\\n        \\n    time.sleep(tb)\""
      ]
     },
     "execution_count": 5,
     "metadata": {},
     "output_type": "execute_result"
    }
   ],
   "source": [
    "'''# Rebalance params\n",
    "tb = 300 # Rebalance 1 hr = 3600 sec\n",
    "min_diff = 0.02 # 2% diff value asset\n",
    "fixed = 100 # fixed asset value\n",
    "rp = 0.8911 # Risk parameter\n",
    " \n",
    "while True:\n",
    "        \n",
    "    ftx.rebalance(min_diff, fixed, rp)\n",
    "    print(f'Sleep {tb} sec.')\n",
    "        \n",
    "    time.sleep(tb)'''"
   ]
  },
  {
   "cell_type": "markdown",
   "id": "egyptian-mapping",
   "metadata": {},
   "source": [
    "# Cashflow calulate\n",
    "    - Exchange FTX\n",
    "    - Product XRP\n",
    "    - Capital\t6000\tTHB \n",
    "    - Cash\t89.45\tUSD\n",
    "    - Risk parameter 0.8911\tUSD\n",
    "    - Mark Unit\t113.1889\tXRP\n",
    "    - Value\t100.8626\tUSD\n",
    "    - Port Value\t190.30\tUSD\n",
    "    - Start date\t15/6/2021\t"
   ]
  },
  {
   "cell_type": "code",
   "execution_count": 5,
   "id": "cathedral-adrian",
   "metadata": {},
   "outputs": [],
   "source": [
    "class calulateLIFO():\n",
    "    \n",
    "    def __init__(self, data): # 'side', 'price, 'amount(unit)'\n",
    "        self.orderhis = data\n",
    "        self.lifo_price = []\n",
    "        self.lifo_unit = []\n",
    "        self.total_cashflow = 0\n",
    "        self.cum_cashflow = []\n",
    "        self.fee = 0\n",
    "        \n",
    "        self.df_cf = None\n",
    "        \n",
    "\n",
    "    def buyinLIFO(self, buy_unit, buy_price):\n",
    "        self.lifo_price.append(buy_price)\n",
    "        self.lifo_unit.append(buy_unit)\n",
    "        \n",
    "      \n",
    "    def soldoutLIFO(self, sold_unit, sold_price):\n",
    "    \n",
    "        sum_unit = 0\n",
    "        list_unit = []\n",
    "        list_price = []\n",
    "          \n",
    "        while  sum_unit < sold_unit:\n",
    "            u = self.lifo_unit.pop()\n",
    "            p = self.lifo_price.pop()\n",
    "            sum_unit += u\n",
    "            list_unit.append(u)\n",
    "            list_price.append(p)\n",
    "    \n",
    "        for u, p in zip(list_unit, list_price):\n",
    "            if u>sold_unit:\n",
    "                cf = sold_unit*(sold_price-p) \n",
    "                self.total_cashflow += cf\n",
    "                self.lifo_unit.append(u-sold_unit)\n",
    "                self.lifo_price.append(p)\n",
    "            else:\n",
    "                cf = u*(sold_price-p) \n",
    "                self.total_cashflow += cf\n",
    "                sold_unit-=u\n",
    "        self.cum_cashflow.append(self.total_cashflow)\n",
    "            \n",
    "\n",
    "    def cashflowLIFO(self):\n",
    "        order_his = self.orderhis\n",
    "    \n",
    "        for i in range(len(order_his)):\n",
    "            if order_his['side'][i] == 'buy':\n",
    "                self.buyinLIFO(order_his['amount'][i], order_his['price'][i])\n",
    "            \n",
    "            elif order_his['side'][i] == 'sell':\n",
    "                self.soldoutLIFO(order_his['amount'][i], order_his['price'][i])\n",
    "                \n",
    "    def feeCalulate(self):\n",
    "        order_his = self.orderhis\n",
    "    \n",
    "        for i in range(len(order_his)):\n",
    "            if order_his['side'][i] == 'sell':\n",
    "                self.fee += order_his['fee'].iloc[i]['cost']\n",
    "    \n",
    "    def cf_plot(self):\n",
    "        \n",
    "        df = self.orderhis\n",
    "        \n",
    "        # Set date range index\n",
    "        s = df['datetime'][0].split('T')[0]\n",
    "        e = df['datetime'][len(df)-1].split('T')[0]\n",
    "        date_range = pd.date_range(start=s, end=e)\n",
    "        \n",
    "        # Get Cashflow from sell side only\n",
    "        date_sell = df[df['side']=='sell']['datetime'].apply(lambda x: x.split('T')[0])\n",
    "        cum_cf = pd.DataFrame(self.cum_cashflow, index=pd.to_datetime(date_sell)) # get cum_cf \n",
    "        \n",
    "        # Change cum_cf to cf and groupby date\n",
    "        cum_cf2 = cum_cf.shift()\n",
    "        cum_cf2.iloc[0] = 0 \n",
    "        cf = cum_cf - cum_cf2\n",
    "        cf_per_day = cf.groupby('datetime').sum() \n",
    "\n",
    "        # df cashflow, cum cashflow\n",
    "        df_cashflow = pd.DataFrame(date_range, columns=['datetime']).set_index('datetime')\n",
    "        df_cashflow['Cashflow'] = cf_per_day\n",
    "        df_cashflow = df_cashflow.fillna(0)\n",
    "        df_cashflow['Cum_Cashflow'] = df_cashflow['Cashflow'].cumsum()\n",
    "        self.df_cf = df_cashflow\n",
    "        \n",
    "        # Cashflow day of week\n",
    "        df_cashflow['dayOfWeek'] = df_cashflow.index.day_name()\n",
    "        dayOfWeek = df_cashflow.groupby(['dayOfWeek'],as_index=False)['Cashflow'].sum()\n",
    "        cats = ['Sunday', 'Monday', 'Tuesday', 'Wednesday', 'Thursday', 'Friday', 'Saturday']\n",
    "        cf_dayOfWeek = dayOfWeek.set_index('dayOfWeek').reindex(cats)\n",
    "        \n",
    "        #df_cashflow['Cashflow'].groupby(pd.Grouper(freq='M')).sum()\n",
    "        \n",
    "        fig = plt.figure(figsize=(20, 25))\n",
    "        ax1 = fig.add_subplot(311)\n",
    "        ax2 = fig.add_subplot(312)\n",
    "        ax3 = fig.add_subplot(313)\n",
    "        \n",
    "        ax1.plot(df_cashflow['Cum_Cashflow'], color='darkturquoise', lw=2)\n",
    "        ax1.title.set_text('Cumulative Cashflow')\n",
    "        ax1.tick_params(axis='x', rotation=75)\n",
    "        ax1.xaxis.set_major_locator(dates.DayLocator(interval=1))\n",
    "        \n",
    "        y = df_cashflow.reset_index()['Cashflow']\n",
    "        x = df_cashflow.reset_index()['datetime']\n",
    "        ax2.bar(x, y, color='orange')\n",
    "        ax2.title.set_text('Cashflow per Days')\n",
    "        ax2.tick_params(axis='x', rotation=75)\n",
    "        ax2.xaxis.set_major_locator(dates.DayLocator(interval=1))\n",
    "        \n",
    "        ax3.bar(cf_dayOfWeek.reset_index()['dayOfWeek'], cf_dayOfWeek.reset_index()['Cashflow'], color='mediumpurple')\n",
    "        ax3.title.set_text('Cashflow day of week')\n",
    "        ax3.tick_params(axis='x', rotation=45, labelsize=12)\n",
    "        ax3.xaxis.set_major_locator(dates.DayLocator(interval=1))\n",
    "        \n",
    "        \n",
    "                  "
   ]
  },
  {
   "cell_type": "code",
   "execution_count": 6,
   "id": "operational-aviation",
   "metadata": {},
   "outputs": [],
   "source": [
    "# Trade his\n",
    "df = ftx.fetchTradeHistory(since=1502962946216)"
   ]
  },
  {
   "cell_type": "code",
   "execution_count": 7,
   "id": "sharing-float",
   "metadata": {},
   "outputs": [],
   "source": [
    "# Set first entry price & unit\n",
    "cap = 190.31\n",
    "cf_transfer = 8 # โอนไป main account แล้ว $7\n",
    "df.loc[0, 'side'] = 'buy'\n",
    "df.loc[0, 'price'] = 0.8911\n",
    "df.loc[0, 'amount'] = 113.1889\n",
    "df.loc[0, 'cost'] = 0.8911*113.1889"
   ]
  },
  {
   "cell_type": "code",
   "execution_count": 8,
   "id": "imposed-vermont",
   "metadata": {},
   "outputs": [],
   "source": [
    "# for check acculate cf\n",
    "#df = df.append({'side':'sell', 'price':0.8911, 'amount':27}, ignore_index=True)"
   ]
  },
  {
   "cell_type": "code",
   "execution_count": 9,
   "id": "confused-translation",
   "metadata": {},
   "outputs": [],
   "source": [
    "cf = calulateLIFO(df)"
   ]
  },
  {
   "cell_type": "code",
   "execution_count": 10,
   "id": "embedded-nightmare",
   "metadata": {},
   "outputs": [],
   "source": [
    "# function for calculate cf,fee\n",
    "cf.cashflowLIFO() # cashflow\n",
    "cf.feeCalulate() # fee"
   ]
  },
  {
   "cell_type": "code",
   "execution_count": 11,
   "id": "1ed15233",
   "metadata": {},
   "outputs": [
    {
     "name": "stdout",
     "output_type": "stream",
     "text": [
      "Total Cashflow = $8.902 \n",
      "4.678%\n"
     ]
    },
    {
     "data": {
      "image/png": "[encoded data removed]",
      "text/plain": [
       "<Figure size 1440x1800 with 3 Axes>"
      ]
     },
     "metadata": {},
     "output_type": "display_data"
    }
   ],
   "source": [
    "cf.cf_plot()\n",
    "print(f'Total Cashflow = ${cf.total_cashflow - cf.fee:.3f} ')\n",
    "print(f'{(cf.total_cashflow - cf.fee)/cap*100:.3f}%')\n",
    "#plt.savefig('cf')"
   ]
  },
  {
   "cell_type": "code",
   "execution_count": 12,
   "id": "072646a7",
   "metadata": {},
   "outputs": [
    {
     "data": {
      "text/plain": [
       "datetime\n",
       "2021-06-30    1.991803\n",
       "2021-07-31    1.754414\n",
       "2021-08-31    0.964479\n",
       "Freq: M, Name: Cashflow, dtype: float64"
      ]
     },
     "execution_count": 12,
     "metadata": {},
     "output_type": "execute_result"
    }
   ],
   "source": [
    "m_cf = cf.df_cf['Cashflow'].groupby(pd.Grouper(freq='M')).sum()/cap*100\n",
    "m_cf"
   ]
  },
  {
   "cell_type": "code",
   "execution_count": 13,
   "id": "b5d608ae",
   "metadata": {},
   "outputs": [
    {
     "data": {
      "text/plain": [
       "25"
      ]
     },
     "execution_count": 13,
     "metadata": {},
     "output_type": "execute_result"
    }
   ],
   "source": [
    "int(25.59)"
   ]
  },
  {
   "cell_type": "code",
   "execution_count": null,
   "id": "65673ec8",
   "metadata": {},
   "outputs": [],
   "source": []
  }
 ],
 "metadata": {
  "kernelspec": {
   "display_name": "Python 3",
   "language": "python",
   "name": "python3"
  },
  "language_info": {
   "codemirror_mode": {
    "name": "ipython",
    "version": 3
   },
   "file_extension": ".py",
   "mimetype": "text/x-python",
   "name": "python",
   "nbconvert_exporter": "python",
   "pygments_lexer": "ipython3",
   "version": "3.8.8"
  }
 },
 "nbformat": 4,
 "nbformat_minor": 5
}
